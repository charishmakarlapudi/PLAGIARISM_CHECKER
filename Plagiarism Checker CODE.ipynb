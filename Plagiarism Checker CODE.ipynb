{
 "cells": [
  {
   "cell_type": "code",
   "execution_count": null,
   "id": "34cc8335",
   "metadata": {},
   "outputs": [],
   "source": []
  },
  {
   "cell_type": "code",
   "execution_count": 1,
   "id": "2cd89f1a",
   "metadata": {},
   "outputs": [
    {
     "name": "stdout",
     "output_type": "stream",
     "text": [
      "Text 1 and Text 2 similarity: 0.2\n",
      "Text 1 and Text 3 similarity: 0.5\n",
      "Text 1 is not plagiarized from Text 2.\n"
     ]
    },
    {
     "name": "stderr",
     "output_type": "stream",
     "text": [
      "[nltk_data] Downloading package punkt to /Users/lakshaya/nltk_data...\n",
      "[nltk_data]   Package punkt is already up-to-date!\n",
      "[nltk_data] Downloading package stopwords to\n",
      "[nltk_data]     /Users/lakshaya/nltk_data...\n",
      "[nltk_data]   Package stopwords is already up-to-date!\n"
     ]
    }
   ],
   "source": [
    "import nltk\n",
    "from nltk.corpus import stopwords\n",
    "from nltk.tokenize import word_tokenize\n",
    "from nltk.stem import PorterStemmer\n",
    "from nltk.metrics import edit_distance\n",
    "\n",
    "nltk.download('punkt')\n",
    "nltk.download('stopwords')\n",
    "\n",
    "def preprocess_text(text):\n",
    "    tokens = word_tokenize(text.lower())\n",
    "    stop_words = set(stopwords.words('english'))\n",
    "    filtered_tokens = [word for word in tokens if word.isalnum() and word not in stop_words]\n",
    "    stemmer = PorterStemmer()\n",
    "    stemmed_tokens = [stemmer.stem(word) for word in filtered_tokens]\n",
    "    \n",
    "    return stemmed_tokens\n",
    "\n",
    "def calculate_similarity(text1, text2):\n",
    "    tokens1 = preprocess_text(text1)\n",
    "    tokens2 = preprocess_text(text2)\n",
    "    common_tokens = set(tokens1).intersection(tokens2)\n",
    "    jaccard_similarity = len(common_tokens) / (len(set(tokens1)) + len(set(tokens2)) - len(common_tokens))\n",
    "    \n",
    "    return jaccard_similarity\n",
    "\n",
    "def is_plagiarized(text1, text2, threshold=0.5):\n",
    "    similarity = calculate_similarity(text1, text2)\n",
    "    return similarity >= threshold\n",
    "\n",
    "text1 = \"This is an original text .\"\n",
    "text2 = \"Text 1 is plagiarized from Text 2.\"\n",
    "text3 = \"This is an original text with some additional content.\"\n",
    "\n",
    "print(\"Text 1 and Text 2 similarity:\", calculate_similarity(text1, text2))\n",
    "print(\"Text 1 and Text 3 similarity:\", calculate_similarity(text1, text3))\n",
    "\n",
    "if is_plagiarized(text1, text2):\n",
    "    print(\"Text 1 is plagiarized from Text 2.\")\n",
    "else:\n",
    "    print(\"Text 1 is not plagiarized from Text 2.\")"
   ]
  },
  {
   "cell_type": "code",
   "execution_count": null,
   "id": "0f649b38",
   "metadata": {},
   "outputs": [],
   "source": []
  }
 ],
 "metadata": {
  "kernelspec": {
   "display_name": "Python 3 (ipykernel)",
   "language": "python",
   "name": "python3"
  },
  "language_info": {
   "codemirror_mode": {
    "name": "ipython",
    "version": 3
   },
   "file_extension": ".py",
   "mimetype": "text/x-python",
   "name": "python",
   "nbconvert_exporter": "python",
   "pygments_lexer": "ipython3",
   "version": "3.11.4"
  }
 },
 "nbformat": 4,
 "nbformat_minor": 5
}
